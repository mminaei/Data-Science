{
 "cells": [
  {
   "cell_type": "code",
   "execution_count": 1,
   "metadata": {
    "collapsed": true
   },
   "outputs": [],
   "source": [
    "import pandas as pd\n",
    "import numpy as np\n",
    "from sklearn import metrics"
   ]
  },
  {
   "cell_type": "code",
   "execution_count": 2,
   "metadata": {
    "collapsed": true
   },
   "outputs": [],
   "source": [
    "test_data = pd.read_csv('NIOBRARA_Clean.csv')"
   ]
  },
  {
   "cell_type": "code",
   "execution_count": 3,
   "metadata": {},
   "outputs": [
    {
     "data": {
      "text/plain": [
       "tm_depth       44651.0\n",
       "lat            44651.0\n",
       "long           44651.0\n",
       "ground_elev    44651.0\n",
       "Name: count, dtype: float64"
      ]
     },
     "execution_count": 3,
     "metadata": {},
     "output_type": "execute_result"
    }
   ],
   "source": [
    "data_stat = test_data.describe()\n",
    "data_stat.iloc[0,:]"
   ]
  },
  {
   "cell_type": "code",
   "execution_count": null,
   "metadata": {
    "collapsed": true,
    "scrolled": true
   },
   "outputs": [],
   "source": [
    "selected_features = ['tm_depth', 'lat', 'long', 'ground_elev']\n",
    "selected_data = test_data[selected_features]\n",
    "selected_data.dropna(inplace=True)"
   ]
  },
  {
   "cell_type": "code",
   "execution_count": null,
   "metadata": {
    "scrolled": true
   },
   "outputs": [
    {
     "name": "stdout",
     "output_type": "stream",
     "text": [
      "Linear Regression RMS Error: 1260.85855642\n"
     ]
    }
   ],
   "source": [
    "selected_features_for_ML = ['lat', 'long', 'ground_elev']\n",
    "\n",
    "\n",
    "# Separating Features/Input (X) and Target/Output (y)\n",
    "\n",
    "X = selected_data[selected_features_for_ML]\n",
    "y = selected_data['tm_depth']\n",
    "\n",
    "# Split data into Train and Test\n",
    "from sklearn.model_selection import train_test_split\n",
    "X_train, X_test, y_train, y_test = train_test_split(X, y)\n",
    "\n",
    "\n",
    "# ------------------------------------\n",
    "# Linear Regression Model\n",
    "# ------------------------------------\n",
    "from sklearn.linear_model import LinearRegression\n",
    "# Instantiate model\n",
    "linreg = LinearRegression()\n",
    "# Fit Model\n",
    "linreg.fit(X_train, y_train)\n",
    "# Predict\n",
    "y_pred = linreg.predict(X_test)\n",
    "# Calculate RMS Error\n",
    "RMSE = np.sqrt(metrics.mean_squared_error(y_test, y_pred))\n",
    "print('Linear Regression RMS Error:', RMSE)\n",
    "\n",
    "\n",
    "# ------------------------------------\n",
    "# Random Forest Model\n",
    "# ------------------------------------\n",
    "from sklearn.ensemble import RandomForestRegressor\n",
    "# Instantiate model\n",
    "rfreg = RandomForestRegressor(n_estimators=500, random_state=1)\n",
    "# Fit Model\n",
    "rfreg.fit(X_train, y_train)\n",
    "# Predict\n",
    "y_pred = rfreg.predict(X_test)\n",
    "# Calculate RMS Error\n",
    "RMSE = np.sqrt(metrics.mean_squared_error(y_test, y_pred))\n",
    "\n",
    "print('Random Forest Regression RMS Error:', RMSE)\n",
    "\n",
    "\n",
    "# ------------------------------------\n",
    "# XGBoost Regresoor Model\n",
    "# ------------------------------------\n",
    "import xgboost as xgb\n",
    "# Instantiate model\n",
    "xgb = xgb.XGBRegressor(n_estimators=300, max_depth=9, learning_rate=0.1)\n",
    "# Fit Model\n",
    "xgb.fit(X_train, y_train)\n",
    "# Predict\n",
    "y_pred = xgb.predict(X_test)\n",
    "# Calculate RMS Error\n",
    "RMSE = np.sqrt(metrics.mean_squared_error(y_test, y_pred))\n",
    "\n",
    "print('XGBoost Regression RMS Error:', RMSE)\n"
   ]
  },
  {
   "cell_type": "markdown",
   "metadata": {},
   "source": [
    "# Second Run (Predicting NIOBRARA by the help of PIERRE) "
   ]
  },
  {
   "cell_type": "code",
   "execution_count": null,
   "metadata": {},
   "outputs": [],
   "source": [
    "test_data2 = pd.read_csv('NIOBRARA_Clean.csv')\n",
    "test_data3 = pd.read_csv('PIERRE_Clean.csv')\n",
    "\n",
    "#Read PIERRE columns\n",
    "selected_features = ['tm_depth', 'lat', 'long', 'ground_elev']\n",
    "selected_data = test_data3[selected_features]\n",
    "selected_data.dropna(inplace=True)"
   ]
  },
  {
   "cell_type": "code",
   "execution_count": null,
   "metadata": {},
   "outputs": [],
   "source": [
    "#First predict PIERRE\n",
    "print('Predicting PIERRE')\n",
    "selected_features_for_ML = ['lat', 'long', 'ground_elev']\n",
    "\n",
    "\n",
    "# Separating Features/Input (X) and Target/Output (y)\n",
    "\n",
    "X = selected_data[selected_features_for_ML]\n",
    "y = selected_data['tm_depth']\n",
    "\n",
    "# Split data into Train and Test\n",
    "from sklearn.model_selection import train_test_split\n",
    "X_train, X_test, y_train, y_test = train_test_split(X, y)\n",
    "\n",
    "\n",
    "# ------------------------------------\n",
    "# Linear Regression Model\n",
    "# ------------------------------------\n",
    "from sklearn.linear_model import LinearRegression\n",
    "# Instantiate model\n",
    "linreg = LinearRegression()\n",
    "# Fit Model\n",
    "linreg.fit(X_train, y_train)\n",
    "# Predict\n",
    "y_pred1 = linreg.predict(X_test)\n",
    "# Calculate RMS Error\n",
    "RMSE = np.sqrt(metrics.mean_squared_error(y_test, y_pred1))\n",
    "print('Linear Regression RMS Error:', RMSE)\n",
    "\n",
    "\n",
    "# ------------------------------------\n",
    "# Random Forest Model\n",
    "# ------------------------------------\n",
    "from sklearn.ensemble import RandomForestRegressor\n",
    "# Instantiate model\n",
    "rfreg = RandomForestRegressor(n_estimators=500, random_state=1)\n",
    "# Fit Model\n",
    "rfreg.fit(X_train, y_train)\n",
    "# Predict\n",
    "y_pred2 = rfreg.predict(X_test)\n",
    "# Calculate RMS Error\n",
    "RMSE = np.sqrt(metrics.mean_squared_error(y_test, y_pred2))\n",
    "\n",
    "print('Random Forest Regression RMS Error:', RMSE)\n",
    "\n",
    "\n",
    "# ------------------------------------\n",
    "# XGBoost Regresoor Model\n",
    "# ------------------------------------\n",
    "import xgboost as xgb\n",
    "# Instantiate model\n",
    "xgb = xgb.XGBRegressor(n_estimators=300, max_depth=9, learning_rate=0.1)\n",
    "# Fit Model\n",
    "xgb.fit(X_train, y_train)\n",
    "# Predict\n",
    "y_pred3 = xgb.predict(X_test)\n",
    "# Calculate RMS Error\n",
    "RMSE = np.sqrt(metrics.mean_squared_error(y_test, y_pred3))\n",
    "\n",
    "print('XGBoost Regression RMS Error:', RMSE)\n",
    "print('Predicting NIOBRARA with the help of PIERRE-------------------------')\n",
    "\n",
    "\n",
    "selected_features = ['tm_depth', 'lat', 'long', 'ground_elev']\n",
    "selected_data = test_data2[selected_features]+test_data3['tm_depth']\n",
    "selected_data.dropna(inplace=True)\n",
    "\n",
    "\n",
    "# Separating Features/Input (X) and Target/Output (y)\n",
    "\n",
    "X = selected_data[selected_features_for_ML]\n",
    "y = selected_data['tm_depth']\n",
    "\n",
    "# Split data into Train and Test\n",
    "from sklearn.model_selection import train_test_split\n",
    "X_train, X_test, y_train, y_test = train_test_split(X, y)\n",
    "\n",
    "\n",
    "# ------------------------------------\n",
    "# Linear Regression Model\n",
    "# ------------------------------------\n",
    "from sklearn.linear_model import LinearRegression\n",
    "# Instantiate model\n",
    "linreg = LinearRegression()\n",
    "# Fit Model\n",
    "linreg.fit(X_train, y_train)\n",
    "# Predict\n",
    "y_pred = linreg.predict(X_test)\n",
    "# Calculate RMS Error\n",
    "RMSE = np.sqrt(metrics.mean_squared_error(y_test, y_pred))\n",
    "print('Linear Regression RMS Error:', RMSE)\n",
    "\n",
    "\n",
    "# ------------------------------------\n",
    "# Random Forest Model\n",
    "# ------------------------------------\n",
    "from sklearn.ensemble import RandomForestRegressor\n",
    "# Instantiate model\n",
    "rfreg = RandomForestRegressor(n_estimators=500, random_state=1)\n",
    "# Fit Model\n",
    "rfreg.fit(X_train, y_train)\n",
    "# Predict\n",
    "y_pred = rfreg.predict(X_test)\n",
    "# Calculate RMS Error\n",
    "RMSE = np.sqrt(metrics.mean_squared_error(y_test, y_pred))\n",
    "\n",
    "print('Random Forest Regression RMS Error:', RMSE)\n",
    "\n",
    "\n",
    "# ------------------------------------\n",
    "# XGBoost Regresoor Model\n",
    "# ------------------------------------\n",
    "import xgboost as xgb\n",
    "# Instantiate model\n",
    "xgb = xgb.XGBRegressor(n_estimators=300, max_depth=9, learning_rate=0.1)\n",
    "# Fit Model\n",
    "xgb.fit(X_train, y_train)\n",
    "# Predict\n",
    "y_pred = xgb.predict(X_test)\n",
    "# Calculate RMS Error\n",
    "RMSE = np.sqrt(metrics.mean_squared_error(y_test, y_pred))\n",
    "\n",
    "print('XGBoost Regression RMS Error:', RMSE)\n"
   ]
  },
  {
   "cell_type": "code",
   "execution_count": null,
   "metadata": {
    "collapsed": true
   },
   "outputs": [],
   "source": []
  }
 ],
 "metadata": {
  "kernelspec": {
   "display_name": "Python 3",
   "language": "python",
   "name": "python3"
  },
  "language_info": {
   "codemirror_mode": {
    "name": "ipython",
    "version": 3
   },
   "file_extension": ".py",
   "mimetype": "text/x-python",
   "name": "python",
   "nbconvert_exporter": "python",
   "pygments_lexer": "ipython3",
   "version": "3.6.3"
  }
 },
 "nbformat": 4,
 "nbformat_minor": 2
}
